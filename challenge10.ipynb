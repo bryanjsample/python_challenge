{
 "cells": [
  {
   "cell_type": "code",
   "execution_count": 2,
   "metadata": {},
   "outputs": [
    {
     "name": "stdout",
     "output_type": "stream",
     "text": [
      "<html>\n",
      " <head>\n",
      "  <title>\n",
      "   what are you looking at?\n",
      "  </title>\n",
      "  <link href=\"../style.css\" rel=\"stylesheet\" type=\"text/css\"/>\n",
      " </head>\n",
      " <body>\n",
      "  <br/>\n",
      "  <br/>\n",
      "  <center>\n",
      "   <img border=\"0\" height=\"480\" src=\"bull.jpg\" usemap=\"#bull\" width=\"640\"/>\n",
      "   <map name=\"bull\">\n",
      "    <area coords=\"146,399,163,403,170,393,169,391,166,386,170,381,170,371,170,355,169,346,167,335,170,329,170,320,170,310,171,301,173,290,178,289,182,287,188,286,190,286,192,291,194,296,195,305,194,307,191,312,190,316,190,321,192,331,193,338,196,341,197,346,199,352,198,360,197,366,197,373,196,380,197,383,196,387,192,389,191,392,190,396,189,400,194,401,201,402,208,403,213,402,216,401,219,397,219,393,216,390,215,385,215,379,213,373,213,365,212,360,210,353,210,347,212,338,213,329,214,319,215,311,215,306,216,296,218,290,221,283,225,282,233,284,238,287,243,290,250,291,255,294,261,293,265,291,271,291,273,289,278,287,279,285,281,280,284,278,284,276,287,277,289,283,291,286,294,291,296,295,299,300,301,304,304,320,305,327,306,332,307,341,306,349,303,354,301,364,301,371,297,375,292,384,291,386,302,393,324,391,333,387,328,375,329,367,329,353,330,341,331,328,336,319,338,310,341,304,341,285,341,278,343,269,344,262,346,259,346,251,349,259,349,264,349,273,349,280,349,288,349,295,349,298,354,293,356,286,354,279,352,268,352,257,351,249,350,234,351,211,352,197,354,185,353,171,351,154,348,147,342,137,339,132,330,122,327,120,314,116,304,117,293,118,284,118,281,122,275,128,265,129,257,131,244,133,239,134,228,136,221,137,214,138,209,135,201,132,192,130,184,131,175,129,170,131,159,134,157,134,160,130,170,125,176,114,176,102,173,103,172,108,171,111,163,115,156,116,149,117,142,116,136,115,129,115,124,115,120,115,115,117,113,120,109,122,102,122,100,121,95,121,89,115,87,110,82,109,84,118,89,123,93,129,100,130,108,132,110,133,110,136,107,138,105,140,95,138,86,141,79,149,77,155,81,162,90,165,97,167,99,171,109,171,107,161,111,156,113,170,115,185,118,208,117,223,121,239,128,251,133,259,136,266,139,276,143,290,148,310,151,332,155,348,156,353,153,366,149,379,147,394,146,399\" href=\"sequence.txt\" shape=\"poly\"/>\n",
      "   </map>\n",
      "   <br/>\n",
      "   <br/>\n",
      "   <font color=\"gold\" size=\"+1\">\n",
      "    len(a[30]) = ?\n",
      "   </font>\n",
      "  </center>\n",
      " </body>\n",
      "</html>\n",
      "\n"
     ]
    }
   ],
   "source": [
    "import requests\n",
    "\n",
    "from bs4 import BeautifulSoup\n",
    "\n",
    "url = 'http://www.pythonchallenge.com/pc/return/bull.html'\n",
    "\n",
    "req = requests.get(url, auth = ('huge','file'))\n",
    "soup = BeautifulSoup(req.content, 'html.parser')\n",
    "\n",
    "print(soup.prettify())\n",
    "\n"
   ]
  },
  {
   "cell_type": "code",
   "execution_count": 4,
   "metadata": {},
   "outputs": [
    {
     "name": "stdout",
     "output_type": "stream",
     "text": [
      "a = [1, 11, 21, 1211, 111221,\n",
      "\n"
     ]
    }
   ],
   "source": [
    "url2 = 'http://www.pythonchallenge.com/pc/return/sequence.txt'\n",
    "\n",
    "req2 = requests.get(url2, auth = ('huge','file'))\n",
    "soup2 = BeautifulSoup(req2.content, 'html.parser')\n",
    "\n",
    "print(soup2.prettify())"
   ]
  },
  {
   "cell_type": "code",
   "execution_count": 17,
   "metadata": {},
   "outputs": [
    {
     "name": "stdout",
     "output_type": "stream",
     "text": [
      "4\n",
      "6\n",
      "10\n",
      "16\n",
      "26\n",
      "42\n",
      "68\n",
      "110\n",
      "178\n",
      "288\n",
      "466\n",
      "754\n",
      "1220\n",
      "1974\n",
      "3194\n",
      "5168\n",
      "8362\n",
      "13530\n",
      "21892\n",
      "35422\n",
      "57314\n",
      "92736\n",
      "150050\n",
      "242786\n",
      "392836\n",
      "635622\n",
      "1028458\n",
      "1664080\n",
      "2692538\n"
     ]
    }
   ],
   "source": [
    "a = [1, 11, 21, 1211, 111221]\n",
    "\n",
    "a_len = [len(str(x)) for x in a]\n",
    "\n",
    "def find_len(current, previous):\n",
    "    if current > 2000000:\n",
    "        return\n",
    "    new = current + previous\n",
    "    print(new)\n",
    "    find_len(new, current)\n",
    "\n",
    "find_len(2, 2)\n"
   ]
  },
  {
   "cell_type": "code",
   "execution_count": 25,
   "metadata": {},
   "outputs": [
    {
     "name": "stdout",
     "output_type": "stream",
     "text": [
      "1\n",
      "1011\n",
      "10101\n",
      "10010111011\n",
      "11011001001110101\n"
     ]
    }
   ],
   "source": [
    "binaries = [format(x, 'b') for x in a]\n",
    "for i in binaries:\n",
    "    print(i)"
   ]
  }
 ],
 "metadata": {
  "kernelspec": {
   "display_name": "myenv",
   "language": "python",
   "name": "python3"
  },
  "language_info": {
   "codemirror_mode": {
    "name": "ipython",
    "version": 3
   },
   "file_extension": ".py",
   "mimetype": "text/x-python",
   "name": "python",
   "nbconvert_exporter": "python",
   "pygments_lexer": "ipython3",
   "version": "3.12.1"
  }
 },
 "nbformat": 4,
 "nbformat_minor": 2
}
