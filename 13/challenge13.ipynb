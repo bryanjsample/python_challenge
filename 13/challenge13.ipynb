{
 "cells": [
  {
   "cell_type": "code",
   "execution_count": 1,
   "metadata": {},
   "outputs": [
    {
     "name": "stdout",
     "output_type": "stream",
     "text": [
      "<html>\n",
      " <head>\n",
      "  <title>\n",
      "   call him\n",
      "  </title>\n",
      "  <link href=\"../style.css\" rel=\"stylesheet\" type=\"text/css\"/>\n",
      " </head>\n",
      " <body>\n",
      "  <center>\n",
      "   <img border=\"0\" height=\"480\" src=\"disprop.jpg\" usemap=\"#evil\" width=\"640\"/>\n",
      "   <map name=\"evil\">\n",
      "    <area coords=\"326,177,45\" href=\"../phonebook.php\" shape=\"circle\"/>\n",
      "   </map>\n",
      "   <font color=\"gold\">\n",
      "   </font>\n",
      "   <br/>\n",
      "   <b>\n",
      "    phone that\n",
      "    <remote>\n",
      "    </remote>\n",
      "    evil\n",
      "   </b>\n",
      "  </center>\n",
      " </body>\n",
      "</html>\n",
      "\n"
     ]
    }
   ],
   "source": [
    "import requests\n",
    "\n",
    "from bs4 import BeautifulSoup\n",
    "\n",
    "url = 'http://www.pythonchallenge.com/pc/return/disproportional.html'\n",
    "\n",
    "req = requests.get(url, auth = ('huge', 'file'))\n",
    "soup = BeautifulSoup(req.content, 'html.parser')\n",
    "\n",
    "print(soup.prettify())"
   ]
  },
  {
   "cell_type": "code",
   "execution_count": 8,
   "metadata": {},
   "outputs": [
    {
     "ename": "AttributeError",
     "evalue": "'ServerProxy' object has no attribute 'text'",
     "output_type": "error",
     "traceback": [
      "\u001b[0;31m---------------------------------------------------------------------------\u001b[0m",
      "\u001b[0;31mAttributeError\u001b[0m                            Traceback (most recent call last)",
      "Cell \u001b[0;32mIn[8], line 4\u001b[0m\n\u001b[1;32m      1\u001b[0m \u001b[38;5;28;01mfrom\u001b[39;00m \u001b[38;5;21;01mxmlrpc\u001b[39;00m\u001b[38;5;21;01m.\u001b[39;00m\u001b[38;5;21;01mclient\u001b[39;00m \u001b[38;5;28;01mimport\u001b[39;00m ServerProxy\n\u001b[1;32m      3\u001b[0m \u001b[38;5;28;01mwith\u001b[39;00m ServerProxy(\u001b[38;5;124m'\u001b[39m\u001b[38;5;124mhttp://www.pythonchallenge.com/pc/phonebook.php\u001b[39m\u001b[38;5;124m'\u001b[39m) \u001b[38;5;28;01mas\u001b[39;00m proxy:\n\u001b[0;32m----> 4\u001b[0m     \u001b[38;5;28mprint\u001b[39m(\u001b[43mproxy\u001b[49m\u001b[38;5;241;43m.\u001b[39;49m\u001b[38;5;21;43m__getattribute__\u001b[39;49m\u001b[43m(\u001b[49m\u001b[38;5;124;43m'\u001b[39;49m\u001b[38;5;124;43mtext\u001b[39;49m\u001b[38;5;124;43m'\u001b[39;49m\u001b[43m)\u001b[49m)\n",
      "\u001b[0;31mAttributeError\u001b[0m: 'ServerProxy' object has no attribute 'text'"
     ]
    }
   ],
   "source": [
    "from xmlrpc.client import ServerProxy\n",
    "\n",
    "with ServerProxy('http://www.pythonchallenge.com/pc/phonebook.php') as proxy:\n",
    "    print(proxy.__getattribute__('text'))"
   ]
  }
 ],
 "metadata": {
  "kernelspec": {
   "display_name": "myenv",
   "language": "python",
   "name": "python3"
  },
  "language_info": {
   "codemirror_mode": {
    "name": "ipython",
    "version": 3
   },
   "file_extension": ".py",
   "mimetype": "text/x-python",
   "name": "python",
   "nbconvert_exporter": "python",
   "pygments_lexer": "ipython3",
   "version": "3.12.1"
  }
 },
 "nbformat": 4,
 "nbformat_minor": 2
}
