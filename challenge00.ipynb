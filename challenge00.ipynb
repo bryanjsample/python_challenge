{
 "cells": [
  {
   "cell_type": "code",
   "execution_count": null,
   "metadata": {},
   "outputs": [],
   "source": [
    "import requests\n",
    "\n",
    "from bs4 import BeautifulSoup\n",
    "\n",
    "url = ''\n",
    "\n",
    "req = requests.get(url)\n",
    "soup = BeautifulSoup(req.content, 'html.parser')\n",
    "\n",
    "print(soup.prettify())\n",
    "\n",
    "import urllib.request\n",
    "\n",
    "req = urllib.request.urlopen(url)"
   ]
  }
 ],
 "metadata": {
  "language_info": {
   "name": "python"
  }
 },
 "nbformat": 4,
 "nbformat_minor": 2
}
