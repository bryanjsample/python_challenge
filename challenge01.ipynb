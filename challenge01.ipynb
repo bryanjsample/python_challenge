{
 "cells": [
  {
   "cell_type": "code",
   "execution_count": 3,
   "metadata": {},
   "outputs": [
    {
     "name": "stdout",
     "output_type": "stream",
     "text": [
      "<html>\n",
      "<head>\n",
      "  <title>What about making trans?</title>\n",
      "  <link rel=\"stylesheet\" type=\"text/css\" href=\"../style.css\">\n",
      "</head>\n",
      "<body>\n",
      "<p>\n",
      "<center>\n",
      "<img src=\"map.jpg\"/><p>\n",
      "<table width=\"50%\">\n",
      "<tr><td align=\"center\">\n",
      "<font color=\"gold\">everybody thinks twice before \n",
      "solving this.</font><p>\n",
      "<br>\n",
      "<font color=\"#f000f0\">\n",
      "g fmnc wms bgblr rpylqjyrc gr zw fylb. rfyrq ufyr amknsrcpq ypc dmp. bmgle gr gl zw fylb gq glcddgagclr ylb rfyr'q ufw rfgq rcvr gq qm jmle. sqgle qrpgle.kyicrpylq() gq pcamkkclbcb. lmu ynnjw ml rfc spj.\n",
      "</tr></td>\n",
      "</table>\n",
      "<br><br>\n",
      "</center>\n",
      "<font size=\"-1\" color=\"gold\">\n",
      "General tips:\n",
      "<li>Use the hints. They are helpful, most of the times.</li>\n",
      "<li>Investigate the data given to you.</li>\n",
      "<li>Avoid looking for spoilers.</li>\n",
      "<br>\n",
      "Forums: <a href=\"http://www.pythonchallenge.com/forums\"/>Python Challenge Forums</a>\n",
      "<br>\n",
      "<!-- IRC: #pythonchallenge at FreeNode -->\n",
      "</body>\n",
      "</html>\n",
      "\n"
     ]
    }
   ],
   "source": [
    "import requests\n",
    "\n",
    "req = requests.get('http://www.pythonchallenge.com/pc/def/map.html')\n",
    "\n",
    "mess = req.text\n",
    "\n",
    "print(mess)\n"
   ]
  },
  {
   "cell_type": "code",
   "execution_count": 5,
   "metadata": {},
   "outputs": [
    {
     "name": "stdout",
     "output_type": "stream",
     "text": [
      "i hope you didnt tr{nsl{te it |y h{nd0 th{ts wh{t computers {re for0 doing it in |y h{nd is inefficient {nd th{t)s why this text is so long0 using string0m{ketr{ns*+ is recommended0 now {pply on the url0\n"
     ]
    }
   ],
   "source": [
    "message = \"g fmnc wms bgblr rpylqjyrc gr zw fylb. rfyrq ufyr amknsrcpq ypc dmp. bmgle gr gl zw fylb gq glcddgagclr ylb rfyr'q ufw rfgq rcvr gq qm jmle. sqgle qrpgle.kyicrpylq() gq pcamkkclbcb. lmu ynnjw ml rfc spj.\"\n",
    "decoded_words = []\n",
    "words = message.split(' ')\n",
    "for word in words:\n",
    "    new = ''\n",
    "    for letter in word:\n",
    "        new += chr(ord(letter) + 2)\n",
    "    decoded_words.append(new)\n",
    "decoded = ' '.join(decoded_words)\n",
    "print(decoded)"
   ]
  },
  {
   "cell_type": "code",
   "execution_count": 6,
   "metadata": {},
   "outputs": [
    {
     "data": {
      "text/plain": [
       "\"i hope you didnt translate it by hand. thats what computers are for. doing it in by hand is inefficient and that's why this text is so long. using string.maketrans() is recommended. now apply on the url.\""
      ]
     },
     "execution_count": 6,
     "metadata": {},
     "output_type": "execute_result"
    }
   ],
   "source": [
    "decoded.replace('{', 'a').replace('|', 'b').replace('0', '.').replace(\")\", \"'\").replace('*', '(').replace('+', ')')"
   ]
  },
  {
   "cell_type": "code",
   "execution_count": null,
   "metadata": {},
   "outputs": [],
   "source": [
    "# http://www.pythonchallenge.com/pc/def/ocr.html"
   ]
  }
 ],
 "metadata": {
  "kernelspec": {
   "display_name": "myenv",
   "language": "python",
   "name": "python3"
  },
  "language_info": {
   "codemirror_mode": {
    "name": "ipython",
    "version": 3
   },
   "file_extension": ".py",
   "mimetype": "text/x-python",
   "name": "python",
   "nbconvert_exporter": "python",
   "pygments_lexer": "ipython3",
   "version": "3.12.1"
  }
 },
 "nbformat": 4,
 "nbformat_minor": 2
}
